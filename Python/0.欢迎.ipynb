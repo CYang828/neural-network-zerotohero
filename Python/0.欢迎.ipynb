{
 "cells": [
  {
   "cell_type": "markdown",
   "metadata": {},
   "source": [
    "# 欢迎\n",
    "在本节，我们要使用 Python 来实现神经网络了，我们会假设大家都是从头开始的，所以我们会实验所有我们提到的方法。为了能够让大家有统一的编程环境，我们有必要统一大家使用软件的版本，以防止因为版本的差异导致一些奇怪 bug 的出现。\n",
    "\n",
    "所以，接下来我们先来安装统一版本的软件。首先是 Python 版本的统一，这里我们使用 Pyenv 来管理 Python 的版本。"
   ]
  },
  {
   "cell_type": "code",
   "execution_count": 1,
   "metadata": {},
   "outputs": [
    {
     "name": "stdout",
     "output_type": "stream",
     "text": [
      "  % Total    % Received % Xferd  Average Speed   Time    Time     Time  Current\n",
      "                                 Dload  Upload   Total   Spent    Left  Speed\n",
      "100   270  100   270    0     0    181      0  0:00:01  0:00:01 --:--:--   181\n",
      "\n",
      "\u001b[1mWARNING\u001b[m: Can not proceed with installation. Kindly remove the '/Users/zhangchunyang/.pyenv' directory first.\n",
      "\n"
     ]
    }
   ],
   "source": [
    "!curl https://pyenv.run | bash"
   ]
  },
  {
   "cell_type": "code",
   "execution_count": 8,
   "metadata": {},
   "outputs": [
    {
     "name": "stdout",
     "output_type": "stream",
     "text": [
      "python-build: use openssl@1.1 from homebrew\n",
      "python-build: use readline from homebrew\n",
      "Downloading Python-3.9.0.tar.xz...\n",
      "-> https://www.python.org/ftp/python/3.9.0/Python-3.9.0.tar.xz\n",
      "Installing Python-3.9.0...\n",
      "python-build: use readline from homebrew\n",
      "python-build: use zlib from xcode sdk\n",
      "\u001b[1mWARNING\u001b[m: The Python readline extension was not compiled. Missing the GNU readline lib?\n",
      "Installed Python-3.9.0 to /Users/zhangchunyang/.pyenv/versions/3.9.0\n",
      "\n"
     ]
    }
   ],
   "source": [
    "# 需要等上一会，不要着急\n",
    "!pyenv install 3.9.0"
   ]
  },
  {
   "cell_type": "code",
   "execution_count": 9,
   "metadata": {},
   "outputs": [],
   "source": [
    "!pyenv global 3.9.0"
   ]
  },
  {
   "cell_type": "code",
   "execution_count": 13,
   "metadata": {},
   "outputs": [
    {
     "data": {
      "text/plain": [
       "'3.8.3 (default, Jul  2 2020, 11:26:31) \\n[Clang 10.0.0 ]'"
      ]
     },
     "execution_count": 13,
     "metadata": {},
     "output_type": "execute_result"
    }
   ],
   "source": [
    "import sys\n",
    "\n",
    "sys.version"
   ]
  },
  {
   "cell_type": "markdown",
   "metadata": {},
   "source": [
    "接着，安装 Numpy，我们使用 1.23.0。在本书中，我们不仅会使用 Numpy 来实现神经网络，同样我们也会使用 Python 来从头实现，你能看到它们之间的区别，以帮助你更好的学习 Numpy。"
   ]
  },
  {
   "cell_type": "code",
   "execution_count": 10,
   "metadata": {},
   "outputs": [
    {
     "name": "stdout",
     "output_type": "stream",
     "text": [
      "\u001b[33mWARNING: Ignoring invalid distribution -ensorflow (/Users/zhangchunyang/opt/anaconda3/lib/python3.8/site-packages)\u001b[0m\u001b[33m\n",
      "\u001b[0m\u001b[33mWARNING: Ignoring invalid distribution -ensorflow (/Users/zhangchunyang/opt/anaconda3/lib/python3.8/site-packages)\u001b[0m\u001b[33m\n",
      "\u001b[0mLooking in indexes: https://pypi.douban.com/simple\n",
      "^C\n",
      "\u001b[31mERROR: Operation cancelled by user\u001b[0m\u001b[31m\n",
      "\u001b[0m\u001b[33mWARNING: Ignoring invalid distribution -ensorflow (/Users/zhangchunyang/opt/anaconda3/lib/python3.8/site-packages)\u001b[0m\u001b[33m\n",
      "\u001b[0m\u001b[33mWARNING: Ignoring invalid distribution -ensorflow (/Users/zhangchunyang/opt/anaconda3/lib/python3.8/site-packages)\u001b[0m\u001b[33m\n",
      "\u001b[0m\u001b[33mWARNING: Ignoring invalid distribution -ensorflow (/Users/zhangchunyang/opt/anaconda3/lib/python3.8/site-packages)\u001b[0m\u001b[33m\n",
      "\u001b[0m\n",
      "\u001b[1m[\u001b[0m\u001b[34;49mnotice\u001b[0m\u001b[1;39;49m]\u001b[0m\u001b[39;49m A new release of pip available: \u001b[0m\u001b[31;49m22.2.2\u001b[0m\u001b[39;49m -> \u001b[0m\u001b[32;49m22.3\u001b[0m\n",
      "\u001b[1m[\u001b[0m\u001b[34;49mnotice\u001b[0m\u001b[1;39;49m]\u001b[0m\u001b[39;49m To update, run: \u001b[0m\u001b[32;49mpip install --upgrade pip\u001b[0m\n"
     ]
    }
   ],
   "source": [
    "!pip install numpy==1.23.0"
   ]
  },
  {
   "cell_type": "markdown",
   "metadata": {},
   "source": [
    "最后，我们安装 Matplotlib，一个用来可视化的库，这也是我们在探索和学习神经网络中必不可少的知识的一部分，也能帮助我们更好的理解神经网络。"
   ]
  },
  {
   "cell_type": "code",
   "execution_count": null,
   "metadata": {},
   "outputs": [],
   "source": [
    "!pip install matplotlib==1.23.0"
   ]
  }
 ],
 "metadata": {
  "kernelspec": {
   "display_name": "Python 3 (ipykernel)",
   "language": "python",
   "name": "python3"
  },
  "language_info": {
   "codemirror_mode": {
    "name": "ipython",
    "version": 3
   },
   "file_extension": ".py",
   "mimetype": "text/x-python",
   "name": "python",
   "nbconvert_exporter": "python",
   "pygments_lexer": "ipython3",
   "version": "3.8.3"
  }
 },
 "nbformat": 4,
 "nbformat_minor": 4
}
